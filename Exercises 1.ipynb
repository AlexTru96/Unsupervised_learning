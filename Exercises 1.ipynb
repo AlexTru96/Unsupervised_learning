{
 "cells": [
  {
   "cell_type": "markdown",
   "id": "fa9a93f8",
   "metadata": {},
   "source": [
    " # 1. VARIABLE RANKING BY LINEAR CORRELATION COEFFICIENT"
   ]
  },
  {
   "cell_type": "code",
   "execution_count": 155,
   "id": "a092c42f",
   "metadata": {},
   "outputs": [],
   "source": [
    "import numpy as np\n",
    "from matplotlib import pyplot as plt"
   ]
  },
  {
   "cell_type": "code",
   "execution_count": 156,
   "id": "548420af",
   "metadata": {},
   "outputs": [
    {
     "name": "stdout",
     "output_type": "stream",
     "text": [
      "{'8. Isoperimetric Factor': -0.049766613170472214, '9. Maximal Indentation Depth': -0.04002558235513153, '10. Lobedness': -0.017048050594139542, '2. Specimen Number': -0.015142016547326375, '16. Entropy': 0.017690039653981887, '7. Stochastic Convexity': 0.04667831920371114, '14. Third moment': 0.05852012269141434, '12. Average Contrast': 0.0762464527076986, '3. Eccentricity': 0.0914146030208963, '13. Smoothness': 0.09488520535309274, '11. Average Intensity': 0.10245321896478966, '6. Solidity': 0.11184290470599254, '5. Elongation': 0.14127524729577032, '15. Uniformity': 0.18771684999019717, '4. Aspect Ratio': 0.27521011784907823}\n"
     ]
    }
   ],
   "source": [
    "data = np.loadtxt('./leaf/leaf.csv', delimiter=',')\n",
    "correlation_coefs = {\"2. Specimen Number\" : 1,\n",
    "\"3. Eccentricity\":2,\n",
    "\"4. Aspect Ratio\":3,\n",
    "\"5. Elongation\":4,\n",
    "\"6. Solidity\":5,\n",
    "\"7. Stochastic Convexity\":6,\n",
    "\"8. Isoperimetric Factor\":7,\n",
    "\"9. Maximal Indentation Depth\":8,     \n",
    "\"10. Lobedness\":9,\n",
    "\"11. Average Intensity\":10,\n",
    "\"12. Average Contrast\":11,\n",
    "\"13. Smoothness\":12,\n",
    "\"14. Third moment\":13,\n",
    "\"15. Uniformity\":14,\n",
    "\"16. Entropy\" : 15\n",
    "}\n",
    "\n",
    "correlation_coefs = {key:np.corrcoef(data[:,value],data[:,0])[0,1] for key, value in correlation_coefs.items()}\n",
    "ordered_corrcoef = {k: v for k, v in sorted(correlation_coefs.items(), key=lambda x: x[1])}\n",
    "print(ordered_corrcoef)"
   ]
  },
  {
   "cell_type": "markdown",
   "id": "10b8a2f6",
   "metadata": {},
   "source": [
    "# According to the variable ranking using linear coeff correlation, the aspect ratio is the most important feature to take into account"
   ]
  },
  {
   "cell_type": "markdown",
   "id": "ed30d69b",
   "metadata": {},
   "source": [
    "# 2. VARIABLE RANKING BY MUTUAL INFORMATION"
   ]
  },
  {
   "cell_type": "code",
   "execution_count": 166,
   "id": "b5764c40",
   "metadata": {},
   "outputs": [],
   "source": [
    "import pandas as pd"
   ]
  },
  {
   "cell_type": "code",
   "execution_count": 176,
   "id": "f21faf39",
   "metadata": {},
   "outputs": [
    {
     "data": {
      "text/plain": [
       "0      y\n",
       "1      y\n",
       "2      y\n",
       "3      ?\n",
       "4      y\n",
       "      ..\n",
       "430    y\n",
       "431    n\n",
       "432    y\n",
       "433    y\n",
       "434    y\n",
       "Name: 5, Length: 435, dtype: object"
      ]
     },
     "execution_count": 176,
     "metadata": {},
     "output_type": "execute_result"
    }
   ],
   "source": [
    "df = pd.read_csv(\"house-votes-84.data\", header=None)"
   ]
  },
  {
   "cell_type": "markdown",
   "id": "f8bb5a21",
   "metadata": {},
   "source": [
    "# 3. PCA"
   ]
  },
  {
   "cell_type": "code",
   "execution_count": 19,
   "id": "0fefc134",
   "metadata": {},
   "outputs": [],
   "source": [
    "data = np.loadtxt('ionosphere.data', delimiter=',', usecols=range(2,34))"
   ]
  },
  {
   "cell_type": "code",
   "execution_count": 20,
   "id": "724ac4a8",
   "metadata": {},
   "outputs": [],
   "source": [
    "cov_matrix = np.cov(data.T)"
   ]
  },
  {
   "cell_type": "code",
   "execution_count": 21,
   "id": "35040f30",
   "metadata": {},
   "outputs": [],
   "source": [
    "values, vectors = np.linalg.eig(cov_matrix)"
   ]
  },
  {
   "cell_type": "code",
   "execution_count": 143,
   "id": "710a0533",
   "metadata": {},
   "outputs": [],
   "source": [
    "explained_variances = np.zeros((values.shape[0],2))\n",
    "for i in range(len(values)):\n",
    "    explained_variances[i,0]=values[i] / np.sum(values)\n",
    "    explained_variances[i,1]= int(i)+2\n",
    "\n",
    "ordered_variances = explained_variances[explained_variances[:,0].argsort()[::-1]]\n",
    "sum_var= 0.0\n",
    "PCA = []\n",
    "i= 0\n",
    "while sum_var < 0.95:\n",
    "    sum_var = sum_var + ordered_variances[i,0]\n",
    "    PCA.append((lambdas[i],i+2))\n",
    "    i=i+1\n",
    "PCA = np.array(PCA)"
   ]
  },
  {
   "cell_type": "code",
   "execution_count": 144,
   "id": "27532f52",
   "metadata": {},
   "outputs": [],
   "source": [
    "lambdas = -np.sort(-values)\n",
    "lambdas = lambdas[[i for i, x in enumerate(lambdas) if x.any()]]"
   ]
  },
  {
   "cell_type": "code",
   "execution_count": 145,
   "id": "c9159dfa",
   "metadata": {},
   "outputs": [
    {
     "data": {
      "text/plain": [
       "<matplotlib.legend.Legend at 0x7fb3575b67c0>"
      ]
     },
     "execution_count": 145,
     "metadata": {},
     "output_type": "execute_result"
    },
    {
     "data": {
      "image/png": "[encoded data removed]",
      "text/plain": [
       "<Figure size 432x288 with 1 Axes>"
      ]
     },
     "metadata": {
      "needs_background": "light"
     },
     "output_type": "display_data"
    }
   ],
   "source": [
    "fig = plt.figure()\n",
    "ax = plt.gca()\n",
    "bx = plt.gca()\n",
    "ax.scatter(range(lambdas.shape[0]),lambdas, c='b')\n",
    "bx.scatter(range(PCA.shape[0]),PCA[:,0], c='r')\n",
    "ax.set_yscale('log')"
   ]
  },
  {
   "cell_type": "code",
   "execution_count": 146,
   "id": "cea92ff6",
   "metadata": {},
   "outputs": [
    {
     "name": "stdout",
     "output_type": "stream",
     "text": [
      "columns discriminated by PCA :  [ 2.  3.  4.  5.  6.  7.  8.  9. 10. 11. 12. 13. 14. 15. 16. 17. 18. 19.\n",
      " 20. 21. 22. 23. 24.]\n"
     ]
    }
   ],
   "source": [
    "print(\"columns discriminated by PCA : \", PCA[:,1])"
   ]
  },
  {
   "cell_type": "markdown",
   "id": "7801d910",
   "metadata": {},
   "source": [
    "# 4. DISTANCES AND SIMILARITIES"
   ]
  },
  {
   "cell_type": "markdown",
   "id": "96a57132",
   "metadata": {},
   "source": [
    "# MAHALANOBIS DISTANCE"
   ]
  },
  {
   "cell_type": "code",
   "execution_count": 136,
   "id": "deb8f447",
   "metadata": {},
   "outputs": [],
   "source": [
    "# Using the 3 most relevant columns according to linear correlation coefficient\n",
    "X = np.loadtxt('./leaf/leaf.csv', delimiter=',', usecols=(3,4,5))"
   ]
  },
  {
   "cell_type": "code",
   "execution_count": 158,
   "id": "269007d3",
   "metadata": {},
   "outputs": [],
   "source": [
    "def calculateMahalanobis(X):\n",
    "\"\"\"Distance between a point and a data distriubtion in a multivariate space\"\"\" \n",
    "    X_ij= X - np.mean(X)\n",
    "    inv_covmat = np.linalg.inv(np.cov(X.T))\n",
    "    left = np.dot(X_ij, inv_covmat)\n",
    "    mahal = np.dot(left,X_ij.T)\n",
    "    return mahal.diagonal()"
   ]
  },
  {
   "cell_type": "code",
   "execution_count": 159,
   "id": "93b71b0f",
   "metadata": {},
   "outputs": [
    {
     "data": {
      "text/plain": [
       "array([106.64779545, 101.53537879,  97.89417094, 103.14852746,\n",
       "        91.00589641, 103.26308097,  90.45415322,  96.7327361 ,\n",
       "        88.6718183 ,  75.48697327, 104.32150023,  91.29048146,\n",
       "        69.1969447 ,  72.66639665,  75.56214436,  80.88579705,\n",
       "        71.66581958,  76.83124215,  84.30212681,  75.95040682,\n",
       "        68.3564082 ,  86.47190272, 108.67605694, 110.0741001 ,\n",
       "       112.61497623, 102.44381221, 107.60970315, 119.37384032,\n",
       "       113.42484027, 114.29060221, 107.07965251, 113.99920383,\n",
       "       133.43016321, 114.96357142,  99.69179462, 115.45565385,\n",
       "       114.22554383, 101.5694904 , 134.69670134, 122.65089928,\n",
       "        86.00003039,  93.34743537,  90.65858292,  80.4295514 ,\n",
       "        88.17789589,  84.45160245,  89.09563374,  83.81038971,\n",
       "        82.80158053,  83.43086424,  88.60595362,  86.82431558,\n",
       "       104.66557693,  99.95755538,  87.46728113, 109.42057634,\n",
       "        91.85148761,  97.38325143,  87.67709512,  99.55651275,\n",
       "       103.93756938, 112.00945854,  97.81068879,  97.58993524,\n",
       "        90.45698668,  90.4604983 ,  81.48477838,  81.19212227,\n",
       "       105.22316372,  90.47128434,  70.07060157,  71.30567818,\n",
       "        74.10461295,  70.78115527,  71.70602079,  72.04375915,\n",
       "        73.46736038,  72.58127888,  72.48292586,  70.29573975,\n",
       "        77.21722894, 113.97002761, 116.71082342, 115.8686458 ,\n",
       "       108.71833276, 105.98372061, 113.92868507, 117.37608418,\n",
       "       120.60720901, 109.853592  , 117.41225144, 103.19709234,\n",
       "       116.01450859, 108.28147994, 110.2681016 , 106.89467833,\n",
       "       108.75489235, 105.42720643, 116.04030769, 100.69514441,\n",
       "       111.72583239, 115.50724848, 123.0627192 , 125.37575715,\n",
       "       114.72549218, 117.95481873, 124.47370413, 121.61600074,\n",
       "       127.82918189, 132.93031864, 134.56380646, 146.60300958,\n",
       "       144.87540257, 138.35521354, 138.87875768, 138.32396645,\n",
       "       136.01013883, 133.92950153, 132.1063203 , 144.03774373,\n",
       "       135.27230622, 142.80775011, 142.67674733, 132.54435424,\n",
       "        90.47615305,  74.52173027,  88.42907592,  87.72491965,\n",
       "        74.4756491 ,  77.56514174,  73.4983641 ,  78.59866837,\n",
       "        84.97879997,  74.64058645,  82.74163661,  81.49656294,\n",
       "       104.2442522 , 100.74851591,  97.12168946, 102.91432068,\n",
       "       111.37083851, 115.67202915, 112.82374628, 104.4887028 ,\n",
       "       102.52806462, 104.51078842, 108.08944594, 109.40889167,\n",
       "       112.87008954,  73.18310014,  72.97929962,  73.1032384 ,\n",
       "        74.40623622,  82.5686301 ,  72.9026803 ,  69.32061095,\n",
       "        70.90386634,  77.12082073,  77.89808965,  79.3130877 ,\n",
       "        74.29423228, 112.78712951, 116.90900054, 113.23883528,\n",
       "       111.2493504 , 118.86347592, 119.51952737, 108.75218543,\n",
       "       115.74623804, 118.60285036, 119.89987486,  77.48440457,\n",
       "        77.47764565,  72.54740223,  85.33985853,  92.61727406,\n",
       "        85.21826192,  86.87754992,  81.22743267,  81.87839447,\n",
       "        85.31016301,  88.03737286,  75.69722183, 110.88951654,\n",
       "       109.35680844,  90.7483642 ,  98.6069842 ,  91.32381222,\n",
       "        90.39419368, 116.19534803, 124.85173113,  96.19465653,\n",
       "        95.53020169,  96.86902498, 105.88589685, 118.81928627,\n",
       "       127.47643726, 112.13745211, 109.66188653, 116.7796988 ,\n",
       "       128.18089958, 106.99644203, 131.51765815, 119.45135845,\n",
       "       122.51181644, 128.3125265 , 107.30979708, 100.46717233,\n",
       "       102.6894453 ,  92.28525016,  90.42402815, 105.72263327,\n",
       "        96.85174082,  99.11758426,  85.25563883,  95.78968399,\n",
       "       103.15543158,  85.52758786, 120.1714558 , 142.27118895,\n",
       "       132.5317575 , 119.38619961, 137.69910636, 134.37391866,\n",
       "        79.36585346, 123.45363841, 135.72975231,  86.62756961,\n",
       "       124.83206868, 107.09526729,  91.1055993 , 104.30405538,\n",
       "        93.60506042,  93.30314043,  83.44866544,  96.43885773,\n",
       "        96.61852001,  92.84333435, 114.5673507 ,  67.87328076,\n",
       "        69.49106168,  73.3006784 ,  79.79716831,  72.15072542,\n",
       "        70.73591416,  70.52027807,  70.80513632,  76.13394222,\n",
       "        70.36076539,  78.54367572,  69.69474356,  86.86098433,\n",
       "        87.51019235,  86.30028095, 100.34098516,  89.67067933,\n",
       "        89.08202491,  87.53174308,  91.37694232,  94.41524029,\n",
       "        93.28042006,  95.44134731,  83.97048386, 120.80686676,\n",
       "       124.0571046 , 130.29013241, 123.44817973, 126.43826302,\n",
       "       120.78308232, 124.20602133, 127.48845359, 120.48022843,\n",
       "       116.6701596 , 116.03340708, 125.80813084, 110.73946106,\n",
       "       122.35327401, 171.10816825, 100.59126728, 127.85158484,\n",
       "       151.93133327, 107.3923897 , 134.73113076, 135.65252985,\n",
       "       123.73031026, 110.34057044,  80.22126497,  80.12076053,\n",
       "        81.09724258,  74.81659329,  77.38344333,  77.81469927,\n",
       "        77.51809613,  76.20478576,  86.48971586,  83.10973659,\n",
       "        95.10675994, 104.01811777, 112.55971777,  93.02128343,\n",
       "        96.2365454 , 106.82068685,  87.28392561, 105.7172268 ,\n",
       "       102.50188414, 102.53824144, 110.34084901, 101.20907624,\n",
       "       111.29190076, 105.77132372, 119.20934018, 198.74572097,\n",
       "       168.85801158, 109.13291195, 111.81741792, 102.71521367,\n",
       "       117.43714065, 106.46578559, 233.15474408,  73.3330063 ,\n",
       "        72.67490075,  72.55693839,  69.98661072,  69.96491482,\n",
       "        73.29901858,  66.5353373 ,  74.18375868,  72.96200282,\n",
       "        69.40831894,  74.02159026,  87.67641577,  88.84299865,\n",
       "        78.17446036,  79.12577619,  78.61833682,  83.39049734,\n",
       "        84.71305204,  83.23365623, 101.65652774, 107.3663623 ])"
      ]
     },
     "execution_count": 159,
     "metadata": {},
     "output_type": "execute_result"
    }
   ],
   "source": [
    "calculateMahalanobis(X)"
   ]
  },
  {
   "cell_type": "markdown",
   "id": "a519808c",
   "metadata": {},
   "source": [
    "# Euclidean distance (p=2)"
   ]
  },
  {
   "cell_type": "code",
   "execution_count": 147,
   "id": "26f2978b",
   "metadata": {},
   "outputs": [],
   "source": [
    "X_PCA = np.loadtxt('ionosphere.data', delimiter=',', usecols=range(2,25))"
   ]
  },
  {
   "cell_type": "code",
   "execution_count": 162,
   "id": "84e08b3f",
   "metadata": {},
   "outputs": [
    {
     "name": "stdout",
     "output_type": "stream",
     "text": [
      "[[0.         2.47205415 0.95973777 ... 1.47269689 1.3186655  1.28753301]\n",
      " [2.47205415 0.         3.02372638 ... 3.64911192 3.50216615 3.40251921]\n",
      " [0.95973777 3.02372638 0.         ... 0.92513131 0.83065922 0.71786892]\n",
      " ...\n",
      " [1.47269689 3.64911192 0.92513131 ... 0.         0.28187715 0.51682568]\n",
      " [1.3186655  3.50216615 0.83065922 ... 0.28187715 0.         0.49656706]\n",
      " [1.28753301 3.40251921 0.71786892 ... 0.51682568 0.49656706 0.        ]]\n"
     ]
    }
   ],
   "source": [
    "n, d = X_PCA.shape\n",
    "distances = np.zeros((n,n))\n",
    "\n",
    "for i in range(n):\n",
    "    for j in range(i + 1, n):\n",
    "        distance = np.sqrt(((X_PCA[i,:] - X_PCA[j,:])**2).sum(axis=0)) \n",
    "        distances[i, j] = distance\n",
    "        distances[j, i] = distance\n",
    "print(distances)"
   ]
  },
  {
   "cell_type": "markdown",
   "id": "ce7448bd",
   "metadata": {},
   "source": [
    "# Hamming distances"
   ]
  },
  {
   "cell_type": "code",
   "execution_count": 164,
   "id": "f5e54b29",
   "metadata": {},
   "outputs": [],
   "source": [
    "#regarding numbers\n",
    "def hamming_distance(x, y):\n",
    "    return bin(x ^ y).count('1')"
   ]
  },
  {
   "cell_type": "code",
   "execution_count": null,
   "id": "417d859f",
   "metadata": {},
   "outputs": [],
   "source": []
  }
 ],
 "metadata": {
  "kernelspec": {
   "display_name": "Python 3",
   "language": "python",
   "name": "python3"
  },
  "language_info": {
   "codemirror_mode": {
    "name": "ipython",
    "version": 3
   },
   "file_extension": ".py",
   "mimetype": "text/x-python",
   "name": "python",
   "nbconvert_exporter": "python",
   "pygments_lexer": "ipython3",
   "version": "3.8.8"
  }
 },
 "nbformat": 4,
 "nbformat_minor": 5
}
